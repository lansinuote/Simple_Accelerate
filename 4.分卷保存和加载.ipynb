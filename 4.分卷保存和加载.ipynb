{
 "cells": [
  {
   "cell_type": "code",
   "execution_count": 1,
   "id": "45058f46",
   "metadata": {},
   "outputs": [
    {
     "name": "stderr",
     "output_type": "stream",
     "text": [
      "Detected kernel version 3.10.0, which is below the recommended minimum of 5.5.0; this can cause the process to hang. It is recommended to upgrade the kernel to the minimum version or higher.\n"
     ]
    },
    {
     "data": {
      "text/plain": [
       "Parameter containing:\n",
       "tensor([[ 0.0083, -0.0032,  0.0090,  ..., -0.0094, -0.0195, -0.0106],\n",
       "        [ 0.0328,  0.0008, -0.0473,  ..., -0.0041,  0.0306, -0.0190],\n",
       "        [-0.0062, -0.0369, -0.0352,  ..., -0.0250, -0.0268,  0.0037],\n",
       "        ...,\n",
       "        [-0.0247,  0.0047, -0.0030,  ...,  0.0281,  0.0045, -0.0040],\n",
       "        [ 0.0285,  0.0244,  0.0216,  ...,  0.0085,  0.0094, -0.0250],\n",
       "        [ 0.0051, -0.0237,  0.0188,  ...,  0.0097,  0.0214,  0.0038]],\n",
       "       requires_grad=True)"
      ]
     },
     "execution_count": 1,
     "metadata": {},
     "output_type": "execute_result"
    }
   ],
   "source": [
    "import torch\n",
    "from accelerate import Accelerator\n",
    "from functions import get_model\n",
    "\n",
    "model, _, _ = get_model()\n",
    "\n",
    "#分卷保存模型参数\n",
    "Accelerator().save_model(model,\n",
    "                         'model/accelerator.save_model',\n",
    "                         max_shard_size='500MB',\n",
    "                         safe_serialization=True)\n",
    "\n",
    "model.classifier.weight"
   ]
  },
  {
   "cell_type": "code",
   "execution_count": 2,
   "id": "82bd19cb",
   "metadata": {},
   "outputs": [
    {
     "data": {
      "text/plain": [
       "Parameter containing:\n",
       "tensor([[ 0.0083, -0.0032,  0.0090,  ..., -0.0094, -0.0195, -0.0106],\n",
       "        [ 0.0328,  0.0008, -0.0473,  ..., -0.0041,  0.0306, -0.0190],\n",
       "        [-0.0062, -0.0369, -0.0352,  ..., -0.0250, -0.0268,  0.0037],\n",
       "        ...,\n",
       "        [-0.0247,  0.0047, -0.0030,  ...,  0.0281,  0.0045, -0.0040],\n",
       "        [ 0.0285,  0.0244,  0.0216,  ...,  0.0085,  0.0094, -0.0250],\n",
       "        [ 0.0051, -0.0237,  0.0188,  ...,  0.0097,  0.0214,  0.0038]],\n",
       "       requires_grad=True)"
      ]
     },
     "execution_count": 2,
     "metadata": {},
     "output_type": "execute_result"
    }
   ],
   "source": [
    "from accelerate import load_checkpoint_in_model\n",
    "\n",
    "model, _, _ = get_model()\n",
    "\n",
    "#直接加载模型参数\n",
    "load_checkpoint_in_model(model, 'model/accelerator.save_model')\n",
    "\n",
    "model.classifier.weight"
   ]
  },
  {
   "cell_type": "code",
   "execution_count": 3,
   "id": "c6780075",
   "metadata": {},
   "outputs": [
    {
     "data": {
      "text/plain": [
       "Parameter containing:\n",
       "tensor(..., device='meta', size=(10, 768), requires_grad=True)"
      ]
     },
     "execution_count": 3,
     "metadata": {},
     "output_type": "execute_result"
    }
   ],
   "source": [
    "from accelerate import init_empty_weights\n",
    "\n",
    "#构建模型但不初始化参数,这可以节省内存\n",
    "with init_empty_weights():\n",
    "    model, _, _ = get_model()\n",
    "\n",
    "model.classifier.weight"
   ]
  },
  {
   "cell_type": "code",
   "execution_count": 4,
   "id": "0f61c6d4",
   "metadata": {
    "scrolled": true
   },
   "outputs": [
    {
     "data": {
      "application/vnd.jupyter.widget-view+json": {
       "model_id": "",
       "version_major": 2,
       "version_minor": 0
      },
      "text/plain": [
       "  0%|          | 0/235 [00:00<?, ?w/s]"
      ]
     },
     "metadata": {},
     "output_type": "display_data"
    },
    {
     "data": {
      "application/vnd.jupyter.widget-view+json": {
       "model_id": "",
       "version_major": 2,
       "version_minor": 0
      },
      "text/plain": [
       "  0%|          | 0/278 [00:00<?, ?w/s]"
      ]
     },
     "metadata": {},
     "output_type": "display_data"
    },
    {
     "data": {
      "application/vnd.jupyter.widget-view+json": {
       "model_id": "",
       "version_major": 2,
       "version_minor": 0
      },
      "text/plain": [
       "  0%|          | 0/8 [00:00<?, ?w/s]"
      ]
     },
     "metadata": {},
     "output_type": "display_data"
    },
    {
     "name": "stderr",
     "output_type": "stream",
     "text": [
      "WARNING:root:Some parameters are on the meta device device because they were offloaded to the disk and cpu.\n"
     ]
    },
    {
     "data": {
      "text/plain": [
       "(Parameter containing:\n",
       " tensor(..., device='meta', size=(10, 768), requires_grad=True),\n",
       " {'bert': 0, 'dropout': 'cpu', 'classifier': 'disk'})"
      ]
     },
     "execution_count": 4,
     "metadata": {},
     "output_type": "execute_result"
    }
   ],
   "source": [
    "from accelerate import load_checkpoint_and_dispatch\n",
    "\n",
    "#加载参数\n",
    "#device_map=auto,自动分配设备,首先会使用显存,然后是内存,最后是磁盘\n",
    "#这里使用的是手动分配\n",
    "model = load_checkpoint_and_dispatch(model,\n",
    "                                     checkpoint='model/accelerator.save_model',\n",
    "                                     device_map={\n",
    "                                         'bert': 0,\n",
    "                                         'dropout': 'cpu',\n",
    "                                         'classifier': 'disk'\n",
    "                                     },\n",
    "                                     offload_folder='offload_folder')\n",
    "\n",
    "model.classifier.weight, model.hf_device_map"
   ]
  },
  {
   "cell_type": "code",
   "execution_count": 5,
   "id": "1d607f19",
   "metadata": {},
   "outputs": [
    {
     "data": {
      "text/plain": [
       "tensor([[ 0.2504,  0.3525, -0.2611, -0.2667, -0.5293,  0.4584,  0.6846, -0.3762,\n",
       "          0.1253,  0.3386],\n",
       "        [ 0.2114,  0.4296, -0.3503, -0.1658, -0.3216,  0.0624,  0.6829, -0.1385,\n",
       "         -0.0096,  0.0238]], grad_fn=<ToCopyBackward0>)"
      ]
     },
     "execution_count": 5,
     "metadata": {},
     "output_type": "execute_result"
    }
   ],
   "source": [
    "#计算过程也会自动切换设备\n",
    "input_ids = torch.randint(0, 15, [2, 15])\n",
    "\n",
    "model(input_ids).logits"
   ]
  }
 ],
 "metadata": {
  "kernelspec": {
   "display_name": "Python [conda env:cuda117]",
   "language": "python",
   "name": "conda-env-cuda117-py"
  },
  "language_info": {
   "codemirror_mode": {
    "name": "ipython",
    "version": 3
   },
   "file_extension": ".py",
   "mimetype": "text/x-python",
   "name": "python",
   "nbconvert_exporter": "python",
   "pygments_lexer": "ipython3",
   "version": "3.10.13"
  }
 },
 "nbformat": 4,
 "nbformat_minor": 5
}
